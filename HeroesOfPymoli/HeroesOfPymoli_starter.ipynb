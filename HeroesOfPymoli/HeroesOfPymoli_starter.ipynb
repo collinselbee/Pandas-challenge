{
 "cells": [
  {
   "cell_type": "markdown",
   "metadata": {},
   "source": [
    "### Note\n",
    "* Instructions have been included for each segment. You do not have to follow them exactly, but they are included to help you think through the steps."
   ]
  },
  {
   "cell_type": "code",
   "execution_count": 192,
   "metadata": {},
   "outputs": [
    {
     "output_type": "execute_result",
     "data": {
      "text/plain": [
       "   Purchase ID             SN  ...                                  Item Name Price\n",
       "0            0        Lisim78  ...  Extraction, Quickblade Of Trembling Hands  3.53\n",
       "1            1    Lisovynya38  ...                          Frenzied Scimitar  1.56\n",
       "2            2     Ithergue48  ...                               Final Critic  4.88\n",
       "3            3  Chamassasya86  ...                                Blindscythe  3.27\n",
       "4            4      Iskosia90  ...                                       Fury  1.44\n",
       "5            5        Yalae81  ...                                  Dreamkiss  3.61\n",
       "6            6      Itheria73  ...     Interrogator, Blood Blade of the Queen  2.18\n",
       "7            7    Iskjaskst81  ...                              Abyssal Shard  2.67\n",
       "8            8      Undjask33  ...                                  Souleater  1.10\n",
       "9            9    Chanosian48  ...               Ghastly Adamantite Protector  3.58\n",
       "\n",
       "[10 rows x 7 columns]"
      ],
      "text/html": "<div>\n<style scoped>\n    .dataframe tbody tr th:only-of-type {\n        vertical-align: middle;\n    }\n\n    .dataframe tbody tr th {\n        vertical-align: top;\n    }\n\n    .dataframe thead th {\n        text-align: right;\n    }\n</style>\n<table border=\"1\" class=\"dataframe\">\n  <thead>\n    <tr style=\"text-align: right;\">\n      <th></th>\n      <th>Purchase ID</th>\n      <th>SN</th>\n      <th>Age</th>\n      <th>Gender</th>\n      <th>Item ID</th>\n      <th>Item Name</th>\n      <th>Price</th>\n    </tr>\n  </thead>\n  <tbody>\n    <tr>\n      <th>0</th>\n      <td>0</td>\n      <td>Lisim78</td>\n      <td>20</td>\n      <td>Male</td>\n      <td>108</td>\n      <td>Extraction, Quickblade Of Trembling Hands</td>\n      <td>3.53</td>\n    </tr>\n    <tr>\n      <th>1</th>\n      <td>1</td>\n      <td>Lisovynya38</td>\n      <td>40</td>\n      <td>Male</td>\n      <td>143</td>\n      <td>Frenzied Scimitar</td>\n      <td>1.56</td>\n    </tr>\n    <tr>\n      <th>2</th>\n      <td>2</td>\n      <td>Ithergue48</td>\n      <td>24</td>\n      <td>Male</td>\n      <td>92</td>\n      <td>Final Critic</td>\n      <td>4.88</td>\n    </tr>\n    <tr>\n      <th>3</th>\n      <td>3</td>\n      <td>Chamassasya86</td>\n      <td>24</td>\n      <td>Male</td>\n      <td>100</td>\n      <td>Blindscythe</td>\n      <td>3.27</td>\n    </tr>\n    <tr>\n      <th>4</th>\n      <td>4</td>\n      <td>Iskosia90</td>\n      <td>23</td>\n      <td>Male</td>\n      <td>131</td>\n      <td>Fury</td>\n      <td>1.44</td>\n    </tr>\n    <tr>\n      <th>5</th>\n      <td>5</td>\n      <td>Yalae81</td>\n      <td>22</td>\n      <td>Male</td>\n      <td>81</td>\n      <td>Dreamkiss</td>\n      <td>3.61</td>\n    </tr>\n    <tr>\n      <th>6</th>\n      <td>6</td>\n      <td>Itheria73</td>\n      <td>36</td>\n      <td>Male</td>\n      <td>169</td>\n      <td>Interrogator, Blood Blade of the Queen</td>\n      <td>2.18</td>\n    </tr>\n    <tr>\n      <th>7</th>\n      <td>7</td>\n      <td>Iskjaskst81</td>\n      <td>20</td>\n      <td>Male</td>\n      <td>162</td>\n      <td>Abyssal Shard</td>\n      <td>2.67</td>\n    </tr>\n    <tr>\n      <th>8</th>\n      <td>8</td>\n      <td>Undjask33</td>\n      <td>22</td>\n      <td>Male</td>\n      <td>21</td>\n      <td>Souleater</td>\n      <td>1.10</td>\n    </tr>\n    <tr>\n      <th>9</th>\n      <td>9</td>\n      <td>Chanosian48</td>\n      <td>35</td>\n      <td>Other / Non-Disclosed</td>\n      <td>136</td>\n      <td>Ghastly Adamantite Protector</td>\n      <td>3.58</td>\n    </tr>\n  </tbody>\n</table>\n</div>"
     },
     "metadata": {},
     "execution_count": 192
    }
   ],
   "source": [
    "# Dependencies and Setup\n",
    "import pandas as pd\n",
    "import numpy as np\n",
    "import csv\n",
    "\n",
    "# File to Load (Remember to Change These)\n",
    "file_to_load = \"Resources/purchase_data.csv\"\n",
    "\n",
    "# Read Purchasing File and store into Pandas data frame\n",
    "purchase_data = pd.read_csv(file_to_load)\n",
    "# Preview of DataFrame\n",
    "purchase_data.head(10)"
   ]
  },
  {
   "cell_type": "code",
   "execution_count": 193,
   "metadata": {},
   "outputs": [
    {
     "output_type": "execute_result",
     "data": {
      "text/plain": [
       "Purchase ID    780\n",
       "SN             780\n",
       "Age            780\n",
       "Gender         780\n",
       "Item ID        780\n",
       "Item Name      780\n",
       "Price          780\n",
       "dtype: int64"
      ]
     },
     "metadata": {},
     "execution_count": 193
    }
   ],
   "source": [
    "# Check for missing data \n",
    "purchase_data.count()"
   ]
  },
  {
   "source": [
    "* No Missing Values, Dataset looks good"
   ],
   "cell_type": "markdown",
   "metadata": {}
  },
  {
   "source": [
    "## Player Count"
   ],
   "cell_type": "markdown",
   "metadata": {}
  },
  {
   "source": [
    "* Display the total number of players\n"
   ],
   "cell_type": "markdown",
   "metadata": {}
  },
  {
   "cell_type": "code",
   "execution_count": 194,
   "metadata": {},
   "outputs": [
    {
     "output_type": "stream",
     "name": "stdout",
     "text": [
      "The total number of players is : 576\n"
     ]
    }
   ],
   "source": [
    "# Total Number of Players \n",
    "total_players = purchase_data['SN'].unique()\n",
    "players_count = len(total_players)\n",
    "print(f'The total number of players is : {players_count}')\n"
   ]
  },
  {
   "cell_type": "markdown",
   "metadata": {},
   "source": [
    "## Purchasing Analysis (Total)"
   ]
  },
  {
   "cell_type": "markdown",
   "metadata": {},
   "source": [
    "* Run basic calculations to obtain number of unique items, average price, etc.\n",
    "\n",
    "\n",
    "* Create a summary data frame to hold the results\n",
    "\n",
    "\n",
    "* Optional: give the displayed data cleaner formatting\n",
    "\n",
    "\n",
    "* Display the summary data frame\n"
   ]
  },
  {
   "cell_type": "code",
   "execution_count": 195,
   "metadata": {
    "scrolled": true
   },
   "outputs": [],
   "source": [
    "# Count of unique items\n",
    "unique_items = len(purchase_data['Item ID'].unique())"
   ]
  },
  {
   "cell_type": "code",
   "execution_count": 196,
   "metadata": {},
   "outputs": [],
   "source": [
    "# the average price\n",
    "avg_price= purchase_data['Price'].mean()"
   ]
  },
  {
   "cell_type": "code",
   "execution_count": 197,
   "metadata": {},
   "outputs": [],
   "source": [
    "# Count the number of purchases\n",
    "total_purchases= len(purchase_data['Purchase ID'])"
   ]
  },
  {
   "cell_type": "code",
   "execution_count": 198,
   "metadata": {},
   "outputs": [],
   "source": [
    "# Calculate the total revenue from all sales\n",
    "total_revenue= sum(purchase_data['Price'])"
   ]
  },
  {
   "cell_type": "code",
   "execution_count": 199,
   "metadata": {},
   "outputs": [
    {
     "output_type": "execute_result",
     "data": {
      "text/plain": [
       "   Number of Unique items Average Price  Number of Purchases Total Revenue\n",
       "0                     179         $3.05                  780      $2379.77"
      ],
      "text/html": "<div>\n<style scoped>\n    .dataframe tbody tr th:only-of-type {\n        vertical-align: middle;\n    }\n\n    .dataframe tbody tr th {\n        vertical-align: top;\n    }\n\n    .dataframe thead th {\n        text-align: right;\n    }\n</style>\n<table border=\"1\" class=\"dataframe\">\n  <thead>\n    <tr style=\"text-align: right;\">\n      <th></th>\n      <th>Number of Unique items</th>\n      <th>Average Price</th>\n      <th>Number of Purchases</th>\n      <th>Total Revenue</th>\n    </tr>\n  </thead>\n  <tbody>\n    <tr>\n      <th>0</th>\n      <td>179</td>\n      <td>$3.05</td>\n      <td>780</td>\n      <td>$2379.77</td>\n    </tr>\n  </tbody>\n</table>\n</div>"
     },
     "metadata": {},
     "execution_count": 199
    }
   ],
   "source": [
    "# create dataframe to hold above results\n",
    "purchase_summary_df = pd.DataFrame({\n",
    "    'Number of Unique items': unique_items,\n",
    "    'Average Price': '${:.2f}'.format(avg_price),\n",
    "    'Number of Purchases': total_purchases,\n",
    "    'Total Revenue': '${:.2f}'.format(total_revenue)\n",
    "},index=[0])\n",
    "purchase_summary_df"
   ]
  },
  {
   "cell_type": "markdown",
   "metadata": {},
   "source": [
    "## Gender Demographics"
   ]
  },
  {
   "cell_type": "markdown",
   "metadata": {},
   "source": [
    "* Percentage and Count of Male Players\n",
    "\n",
    "\n",
    "* Percentage and Count of Female Players\n",
    "\n",
    "\n",
    "* Percentage and Count of Other / Non-Disclosed\n",
    "\n",
    "\n"
   ]
  },
  {
   "cell_type": "code",
   "execution_count": 200,
   "metadata": {},
   "outputs": [
    {
     "output_type": "execute_result",
     "data": {
      "text/plain": [
       "Male                     652\n",
       "Female                   113\n",
       "Other / Non-Disclosed     15\n",
       "Name: Gender, dtype: int64"
      ]
     },
     "metadata": {},
     "execution_count": 200
    }
   ],
   "source": [
    "# Gender Count\n",
    "purchase_data['Gender'].value_counts()\n"
   ]
  },
  {
   "cell_type": "code",
   "execution_count": 201,
   "metadata": {},
   "outputs": [
    {
     "output_type": "execute_result",
     "data": {
      "text/plain": [
       "Gender                 SN         \n",
       "Female                 Chamjask73     3\n",
       "                       Ialallo29      3\n",
       "                       Phyali88       3\n",
       "                       Tyidaim51      3\n",
       "                       Umolrian85     3\n",
       "                                     ..\n",
       "Other / Non-Disclosed  Haerithp41     1\n",
       "                       Jiskirran77    1\n",
       "                       Lirtim36       1\n",
       "                       Rairith81      1\n",
       "                       Sundim98       1\n",
       "Name: SN, Length: 576, dtype: int64"
      ]
     },
     "metadata": {},
     "execution_count": 201
    }
   ],
   "source": [
    "# Check for Duplicate nnames\n",
    "gender_groups = purchase_data.groupby(['Gender'])\n",
    "count = gender_groups[\"SN\"].value_counts()\n",
    "count\n"
   ]
  },
  {
   "cell_type": "code",
   "execution_count": 202,
   "metadata": {},
   "outputs": [
    {
     "output_type": "execute_result",
     "data": {
      "text/plain": [
       "Male                     484\n",
       "Female                    81\n",
       "Other / Non-Disclosed     11\n",
       "Name: Gender, dtype: int64"
      ]
     },
     "metadata": {},
     "execution_count": 202
    }
   ],
   "source": [
    "# Remove duplicate names\n",
    "unique_gender_df = purchase_data.drop_duplicates('SN')\n",
    "# Gender count for each unique name\n",
    "gender_count = unique_gender_df['Gender'].value_counts()\n",
    "gender_count"
   ]
  },
  {
   "cell_type": "code",
   "execution_count": 203,
   "metadata": {},
   "outputs": [
    {
     "output_type": "execute_result",
     "data": {
      "text/plain": [
       "Male                     84.027778\n",
       "Female                   14.062500\n",
       "Other / Non-Disclosed     1.909722\n",
       "Name: Gender, dtype: float64"
      ]
     },
     "metadata": {},
     "execution_count": 203
    }
   ],
   "source": [
    "# Get percentage of player gender\n",
    "gender_percent = (unique_gender_df['Gender'].value_counts()/players_count)*100\n",
    "gender_percent"
   ]
  },
  {
   "cell_type": "code",
   "execution_count": 204,
   "metadata": {},
   "outputs": [
    {
     "output_type": "execute_result",
     "data": {
      "text/plain": [
       "                       Total Count Percentage of Players\n",
       "Male                           484                84.03%\n",
       "Female                          81                14.06%\n",
       "Other / Non-Disclosed           11                 1.91%"
      ],
      "text/html": "<div>\n<style scoped>\n    .dataframe tbody tr th:only-of-type {\n        vertical-align: middle;\n    }\n\n    .dataframe tbody tr th {\n        vertical-align: top;\n    }\n\n    .dataframe thead th {\n        text-align: right;\n    }\n</style>\n<table border=\"1\" class=\"dataframe\">\n  <thead>\n    <tr style=\"text-align: right;\">\n      <th></th>\n      <th>Total Count</th>\n      <th>Percentage of Players</th>\n    </tr>\n  </thead>\n  <tbody>\n    <tr>\n      <th>Male</th>\n      <td>484</td>\n      <td>84.03%</td>\n    </tr>\n    <tr>\n      <th>Female</th>\n      <td>81</td>\n      <td>14.06%</td>\n    </tr>\n    <tr>\n      <th>Other / Non-Disclosed</th>\n      <td>11</td>\n      <td>1.91%</td>\n    </tr>\n  </tbody>\n</table>\n</div>"
     },
     "metadata": {},
     "execution_count": 204
    }
   ],
   "source": [
    "# Write into a DataFrame \n",
    "gender_demo_df = pd.DataFrame({\n",
    "    'Total Count': gender_count,\n",
    "    'Percentage of Players': gender_percent.map('{:.2f}%'.format)\n",
    "})\n",
    "gender_demo_df"
   ]
  },
  {
   "cell_type": "markdown",
   "metadata": {},
   "source": [
    "\n",
    "## Purchasing Analysis (Gender)"
   ]
  },
  {
   "cell_type": "markdown",
   "metadata": {},
   "source": [
    "* Run basic calculations to obtain purchase count, avg. purchase price, avg. purchase total per person etc. by gender\n",
    "\n",
    "\n",
    "\n",
    "\n",
    "* Create a summary data frame to hold the results\n",
    "\n",
    "\n",
    "* Optional: give the displayed data cleaner formatting\n",
    "\n",
    "\n",
    "* Display the summary data frame"
   ]
  },
  {
   "cell_type": "code",
   "execution_count": 205,
   "metadata": {},
   "outputs": [
    {
     "output_type": "execute_result",
     "data": {
      "text/plain": [
       "                      Purchase ID                          ... Price             \n",
       "                            count        mean         std  ...   50%    75%   max\n",
       "Gender                                                     ...                   \n",
       "Female                      113.0  379.380531  211.605484  ...  3.45  4.230  4.90\n",
       "Male                        652.0  392.516871  227.516414  ...  3.09  4.080  4.99\n",
       "Other / Non-Disclosed        15.0  334.600000  234.524991  ...  3.45  3.875  4.75\n",
       "\n",
       "[3 rows x 32 columns]"
      ],
      "text/html": "<div>\n<style scoped>\n    .dataframe tbody tr th:only-of-type {\n        vertical-align: middle;\n    }\n\n    .dataframe tbody tr th {\n        vertical-align: top;\n    }\n\n    .dataframe thead tr th {\n        text-align: left;\n    }\n\n    .dataframe thead tr:last-of-type th {\n        text-align: right;\n    }\n</style>\n<table border=\"1\" class=\"dataframe\">\n  <thead>\n    <tr>\n      <th></th>\n      <th colspan=\"8\" halign=\"left\">Purchase ID</th>\n      <th colspan=\"8\" halign=\"left\">Age</th>\n      <th colspan=\"8\" halign=\"left\">Item ID</th>\n      <th colspan=\"8\" halign=\"left\">Price</th>\n    </tr>\n    <tr>\n      <th></th>\n      <th>count</th>\n      <th>mean</th>\n      <th>std</th>\n      <th>min</th>\n      <th>25%</th>\n      <th>50%</th>\n      <th>75%</th>\n      <th>max</th>\n      <th>count</th>\n      <th>mean</th>\n      <th>std</th>\n      <th>min</th>\n      <th>25%</th>\n      <th>50%</th>\n      <th>75%</th>\n      <th>max</th>\n      <th>count</th>\n      <th>mean</th>\n      <th>std</th>\n      <th>min</th>\n      <th>25%</th>\n      <th>50%</th>\n      <th>75%</th>\n      <th>max</th>\n      <th>count</th>\n      <th>mean</th>\n      <th>std</th>\n      <th>min</th>\n      <th>25%</th>\n      <th>50%</th>\n      <th>75%</th>\n      <th>max</th>\n    </tr>\n    <tr>\n      <th>Gender</th>\n      <th></th>\n      <th></th>\n      <th></th>\n      <th></th>\n      <th></th>\n      <th></th>\n      <th></th>\n      <th></th>\n      <th></th>\n      <th></th>\n      <th></th>\n      <th></th>\n      <th></th>\n      <th></th>\n      <th></th>\n      <th></th>\n      <th></th>\n      <th></th>\n      <th></th>\n      <th></th>\n      <th></th>\n      <th></th>\n      <th></th>\n      <th></th>\n      <th></th>\n      <th></th>\n      <th></th>\n      <th></th>\n      <th></th>\n      <th></th>\n      <th></th>\n      <th></th>\n    </tr>\n  </thead>\n  <tbody>\n    <tr>\n      <th>Female</th>\n      <td>113.0</td>\n      <td>379.380531</td>\n      <td>211.605484</td>\n      <td>15.0</td>\n      <td>199.00</td>\n      <td>392.0</td>\n      <td>558.00</td>\n      <td>775.0</td>\n      <td>113.0</td>\n      <td>21.345133</td>\n      <td>6.097086</td>\n      <td>7.0</td>\n      <td>18.0</td>\n      <td>21.0</td>\n      <td>24.0</td>\n      <td>40.0</td>\n      <td>113.0</td>\n      <td>85.477876</td>\n      <td>53.264183</td>\n      <td>1.0</td>\n      <td>39.0</td>\n      <td>82.0</td>\n      <td>129.0</td>\n      <td>183.0</td>\n      <td>113.0</td>\n      <td>3.203009</td>\n      <td>1.158194</td>\n      <td>1.00</td>\n      <td>2.2800</td>\n      <td>3.45</td>\n      <td>4.230</td>\n      <td>4.90</td>\n    </tr>\n    <tr>\n      <th>Male</th>\n      <td>652.0</td>\n      <td>392.516871</td>\n      <td>227.516414</td>\n      <td>0.0</td>\n      <td>193.75</td>\n      <td>390.5</td>\n      <td>592.25</td>\n      <td>779.0</td>\n      <td>652.0</td>\n      <td>22.917178</td>\n      <td>6.689232</td>\n      <td>7.0</td>\n      <td>20.0</td>\n      <td>22.0</td>\n      <td>25.0</td>\n      <td>45.0</td>\n      <td>652.0</td>\n      <td>93.095092</td>\n      <td>52.508153</td>\n      <td>0.0</td>\n      <td>52.0</td>\n      <td>93.0</td>\n      <td>139.0</td>\n      <td>183.0</td>\n      <td>652.0</td>\n      <td>3.017853</td>\n      <td>1.175625</td>\n      <td>1.00</td>\n      <td>1.9625</td>\n      <td>3.09</td>\n      <td>4.080</td>\n      <td>4.99</td>\n    </tr>\n    <tr>\n      <th>Other / Non-Disclosed</th>\n      <td>15.0</td>\n      <td>334.600000</td>\n      <td>234.524991</td>\n      <td>9.0</td>\n      <td>169.50</td>\n      <td>291.0</td>\n      <td>516.50</td>\n      <td>747.0</td>\n      <td>15.0</td>\n      <td>24.200000</td>\n      <td>8.376839</td>\n      <td>15.0</td>\n      <td>18.0</td>\n      <td>21.0</td>\n      <td>30.0</td>\n      <td>38.0</td>\n      <td>15.0</td>\n      <td>80.800000</td>\n      <td>55.593165</td>\n      <td>16.0</td>\n      <td>37.0</td>\n      <td>46.0</td>\n      <td>141.0</td>\n      <td>163.0</td>\n      <td>15.0</td>\n      <td>3.346000</td>\n      <td>0.883813</td>\n      <td>1.33</td>\n      <td>3.1000</td>\n      <td>3.45</td>\n      <td>3.875</td>\n      <td>4.75</td>\n    </tr>\n  </tbody>\n</table>\n</div>"
     },
     "metadata": {},
     "execution_count": 205
    }
   ],
   "source": [
    "# Use groupby to group data by Gender \n",
    "unique_gender_count = gender_groups['SN'].nunique()\n",
    "gender_groups.describe()"
   ]
  },
  {
   "cell_type": "code",
   "execution_count": 206,
   "metadata": {},
   "outputs": [
    {
     "output_type": "execute_result",
     "data": {
      "text/plain": [
       "Gender\n",
       "Female                   113\n",
       "Male                     652\n",
       "Other / Non-Disclosed     15\n",
       "Name: Gender, dtype: int64"
      ]
     },
     "metadata": {},
     "execution_count": 206
    }
   ],
   "source": [
    "# purchase Count\n",
    "purchase_count = gender_groups['Gender'].count()\n",
    "purchase_count"
   ]
  },
  {
   "cell_type": "code",
   "execution_count": 207,
   "metadata": {},
   "outputs": [
    {
     "output_type": "execute_result",
     "data": {
      "text/plain": [
       "Gender\n",
       "Female                   3.203009\n",
       "Male                     3.017853\n",
       "Other / Non-Disclosed    3.346000\n",
       "Name: Price, dtype: float64"
      ]
     },
     "metadata": {},
     "execution_count": 207
    }
   ],
   "source": [
    "# Average Purchase price\n",
    "purchase_mean = gender_groups['Price'].mean()\n",
    "purchase_mean"
   ]
  },
  {
   "cell_type": "code",
   "execution_count": 208,
   "metadata": {},
   "outputs": [
    {
     "output_type": "execute_result",
     "data": {
      "text/plain": [
       "Gender\n",
       "Female                    361.94\n",
       "Male                     1967.64\n",
       "Other / Non-Disclosed      50.19\n",
       "Name: Price, dtype: float64"
      ]
     },
     "metadata": {},
     "execution_count": 208
    }
   ],
   "source": [
    "# total revenue\n",
    "purchase_total = gender_groups['Price'].sum()\n",
    "purchase_total "
   ]
  },
  {
   "cell_type": "code",
   "execution_count": 209,
   "metadata": {},
   "outputs": [
    {
     "output_type": "execute_result",
     "data": {
      "text/plain": [
       "Gender\n",
       "Female                   4.468395\n",
       "Male                     4.065372\n",
       "Other / Non-Disclosed    4.562727\n",
       "dtype: float64"
      ]
     },
     "metadata": {},
     "execution_count": 209
    }
   ],
   "source": [
    "# Average purchase per person\n",
    "avg_purchase_per_person = purchase_total/unique_gender_count\n",
    "avg_purchase_per_person"
   ]
  },
  {
   "cell_type": "code",
   "execution_count": 210,
   "metadata": {},
   "outputs": [
    {
     "output_type": "execute_result",
     "data": {
      "text/plain": [
       "                       Purchase Count  ... Average Total Purchase per Person\n",
       "Gender                                 ...                                  \n",
       "Female                            113  ...                             $4.47\n",
       "Male                              652  ...                             $4.07\n",
       "Other / Non-Disclosed              15  ...                             $4.56\n",
       "\n",
       "[3 rows x 4 columns]"
      ],
      "text/html": "<div>\n<style scoped>\n    .dataframe tbody tr th:only-of-type {\n        vertical-align: middle;\n    }\n\n    .dataframe tbody tr th {\n        vertical-align: top;\n    }\n\n    .dataframe thead th {\n        text-align: right;\n    }\n</style>\n<table border=\"1\" class=\"dataframe\">\n  <thead>\n    <tr style=\"text-align: right;\">\n      <th></th>\n      <th>Purchase Count</th>\n      <th>Average Purchase Price</th>\n      <th>Total Purchase Value</th>\n      <th>Average Total Purchase per Person</th>\n    </tr>\n    <tr>\n      <th>Gender</th>\n      <th></th>\n      <th></th>\n      <th></th>\n      <th></th>\n    </tr>\n  </thead>\n  <tbody>\n    <tr>\n      <th>Female</th>\n      <td>113</td>\n      <td>$3.20</td>\n      <td>$361.94</td>\n      <td>$4.47</td>\n    </tr>\n    <tr>\n      <th>Male</th>\n      <td>652</td>\n      <td>$3.02</td>\n      <td>$1,967.64</td>\n      <td>$4.07</td>\n    </tr>\n    <tr>\n      <th>Other / Non-Disclosed</th>\n      <td>15</td>\n      <td>$3.35</td>\n      <td>$50.19</td>\n      <td>$4.56</td>\n    </tr>\n  </tbody>\n</table>\n</div>"
     },
     "metadata": {},
     "execution_count": 210
    }
   ],
   "source": [
    "# Write into a summary dataframe\n",
    "summary_df = pd.DataFrame({\"Purchase Count\": purchase_count, \"Average Purchase Price\": purchase_mean, \n",
    "                           \"Total Purchase Value\": purchase_total, \"Average Total Purchase per Person\": avg_purchase_per_person})\n",
    "summary_df[\"Average Purchase Price\"] = summary_df[\"Average Purchase Price\"].map(\"${:.2f}\".format)\n",
    "summary_df[\"Average Total Purchase per Person\"] = summary_df[\"Average Total Purchase per Person\"].map(\"${:.2f}\".format)\n",
    "summary_df[\"Total Purchase Value\"] = summary_df[\"Total Purchase Value\"].map(\"${:,.2f}\".format)\n",
    "\n",
    "purchase_analysis_gender_df = summary_df[[\"Purchase Count\", \"Average Purchase Price\", \"Total Purchase Value\", \n",
    "                         \"Average Total Purchase per Person\"]]\n",
    "purchase_analysis_gender_df"
   ]
  },
  {
   "cell_type": "markdown",
   "metadata": {},
   "source": [
    "## Age Demographics"
   ]
  },
  {
   "cell_type": "markdown",
   "metadata": {},
   "source": [
    "* Establish bins for ages\n",
    "\n",
    "\n",
    "* Categorize the existing players using the age bins. Hint: use pd.cut()\n",
    "\n",
    "\n",
    "* Calculate the numbers and percentages by age group\n",
    "\n",
    "\n",
    "* Create a summary data frame to hold the results\n",
    "\n",
    "\n",
    "* Optional: round the percentage column to two decimal points\n",
    "\n",
    "\n",
    "* Display Age Demographics Table\n"
   ]
  },
  {
   "cell_type": "code",
   "execution_count": 211,
   "metadata": {},
   "outputs": [],
   "source": [
    "# Create bins\n",
    "bins = [0, 9, 14, 19, 24, 29, 34, 39, 100]\n",
    "demographics = [\"<10\", \"10-14\", \"15-19\", \"20-24\", \"25-29\", \"30-34\", \"35-39\", \"40+\"]"
   ]
  },
  {
   "cell_type": "code",
   "execution_count": 212,
   "metadata": {},
   "outputs": [],
   "source": [
    "# Cut the data into categories\n",
    "purchase_data[\"Age Demographic\"] = pd.cut(purchase_data[\"Age\"], bins, labels = demographics)\n",
    "age_demographics = purchase_data.groupby(\"Age Demographic\")\n"
   ]
  },
  {
   "cell_type": "code",
   "execution_count": 213,
   "metadata": {},
   "outputs": [],
   "source": [
    "# CAlculate the percentage of players and number of plers by demographics\n",
    "a_total_count = age_demographics[\"SN\"].nunique()\n",
    "a_total_players = purchase_data[\"SN\"].nunique()\n",
    "a_percentage_of_players = (a_total_count/a_total_players) * 100"
   ]
  },
  {
   "cell_type": "code",
   "execution_count": 214,
   "metadata": {},
   "outputs": [
    {
     "output_type": "execute_result",
     "data": {
      "text/plain": [
       "                 Total Count Percentage of Players\n",
       "Age Demographic                                   \n",
       "<10                       17                 2.95%\n",
       "10-14                     22                 3.82%\n",
       "15-19                    107                18.58%\n",
       "20-24                    258                44.79%\n",
       "25-29                     77                13.37%\n",
       "30-34                     52                 9.03%\n",
       "35-39                     31                 5.38%\n",
       "40+                       12                 2.08%"
      ],
      "text/html": "<div>\n<style scoped>\n    .dataframe tbody tr th:only-of-type {\n        vertical-align: middle;\n    }\n\n    .dataframe tbody tr th {\n        vertical-align: top;\n    }\n\n    .dataframe thead th {\n        text-align: right;\n    }\n</style>\n<table border=\"1\" class=\"dataframe\">\n  <thead>\n    <tr style=\"text-align: right;\">\n      <th></th>\n      <th>Total Count</th>\n      <th>Percentage of Players</th>\n    </tr>\n    <tr>\n      <th>Age Demographic</th>\n      <th></th>\n      <th></th>\n    </tr>\n  </thead>\n  <tbody>\n    <tr>\n      <th>&lt;10</th>\n      <td>17</td>\n      <td>2.95%</td>\n    </tr>\n    <tr>\n      <th>10-14</th>\n      <td>22</td>\n      <td>3.82%</td>\n    </tr>\n    <tr>\n      <th>15-19</th>\n      <td>107</td>\n      <td>18.58%</td>\n    </tr>\n    <tr>\n      <th>20-24</th>\n      <td>258</td>\n      <td>44.79%</td>\n    </tr>\n    <tr>\n      <th>25-29</th>\n      <td>77</td>\n      <td>13.37%</td>\n    </tr>\n    <tr>\n      <th>30-34</th>\n      <td>52</td>\n      <td>9.03%</td>\n    </tr>\n    <tr>\n      <th>35-39</th>\n      <td>31</td>\n      <td>5.38%</td>\n    </tr>\n    <tr>\n      <th>40+</th>\n      <td>12</td>\n      <td>2.08%</td>\n    </tr>\n  </tbody>\n</table>\n</div>"
     },
     "metadata": {},
     "execution_count": 214
    }
   ],
   "source": [
    "# Write a summary data frame of age demographic \n",
    "a_summary_df = pd.DataFrame({\"Total Count\": a_total_count, \"Percentage of Players\": a_percentage_of_players})\n",
    "a_summary_df[\"Percentage of Players\"] = a_summary_df[\"Percentage of Players\"].map(\"{:.2f}%\".format)\n",
    "age_demo_df = a_summary_df[[\"Total Count\", \"Percentage of Players\"]]\n",
    "age_demo_df"
   ]
  },
  {
   "cell_type": "markdown",
   "metadata": {},
   "source": [
    "## Purchasing Analysis (Age)"
   ]
  },
  {
   "cell_type": "markdown",
   "metadata": {},
   "source": [
    "* Bin the purchase_data data frame by age\n",
    "\n",
    "\n",
    "* Run basic calculations to obtain purchase count, avg. purchase price, avg. purchase total per person etc. in the table below\n",
    "\n",
    "\n",
    "* Create a summary data frame to hold the results\n",
    "\n",
    "\n",
    "* Optional: give the displayed data cleaner formatting\n",
    "\n",
    "\n",
    "* Display the summary data frame"
   ]
  },
  {
   "cell_type": "code",
   "execution_count": 215,
   "metadata": {},
   "outputs": [
    {
     "output_type": "execute_result",
     "data": {
      "text/plain": [
       "                 Purchase Count  ... Average Total per Person\n",
       "Age Demographic                  ...                         \n",
       "<10                          23  ...                    $4.54\n",
       "10-14                        28  ...                    $3.76\n",
       "15-19                       136  ...                    $3.86\n",
       "20-24                       365  ...                    $4.32\n",
       "25-29                       101  ...                    $3.81\n",
       "30-34                        73  ...                    $4.12\n",
       "35-39                        41  ...                    $4.76\n",
       "40+                          13  ...                    $3.19\n",
       "\n",
       "[8 rows x 4 columns]"
      ],
      "text/html": "<div>\n<style scoped>\n    .dataframe tbody tr th:only-of-type {\n        vertical-align: middle;\n    }\n\n    .dataframe tbody tr th {\n        vertical-align: top;\n    }\n\n    .dataframe thead th {\n        text-align: right;\n    }\n</style>\n<table border=\"1\" class=\"dataframe\">\n  <thead>\n    <tr style=\"text-align: right;\">\n      <th></th>\n      <th>Purchase Count</th>\n      <th>Average Purchase Price</th>\n      <th>Total Purchase Value</th>\n      <th>Average Total per Person</th>\n    </tr>\n    <tr>\n      <th>Age Demographic</th>\n      <th></th>\n      <th></th>\n      <th></th>\n      <th></th>\n    </tr>\n  </thead>\n  <tbody>\n    <tr>\n      <th>&lt;10</th>\n      <td>23</td>\n      <td>$3.35</td>\n      <td>$77.13</td>\n      <td>$4.54</td>\n    </tr>\n    <tr>\n      <th>10-14</th>\n      <td>28</td>\n      <td>$2.96</td>\n      <td>$82.78</td>\n      <td>$3.76</td>\n    </tr>\n    <tr>\n      <th>15-19</th>\n      <td>136</td>\n      <td>$3.04</td>\n      <td>$412.89</td>\n      <td>$3.86</td>\n    </tr>\n    <tr>\n      <th>20-24</th>\n      <td>365</td>\n      <td>$3.05</td>\n      <td>$1114.06</td>\n      <td>$4.32</td>\n    </tr>\n    <tr>\n      <th>25-29</th>\n      <td>101</td>\n      <td>$2.90</td>\n      <td>$293.00</td>\n      <td>$3.81</td>\n    </tr>\n    <tr>\n      <th>30-34</th>\n      <td>73</td>\n      <td>$2.93</td>\n      <td>$214.00</td>\n      <td>$4.12</td>\n    </tr>\n    <tr>\n      <th>35-39</th>\n      <td>41</td>\n      <td>$3.60</td>\n      <td>$147.67</td>\n      <td>$4.76</td>\n    </tr>\n    <tr>\n      <th>40+</th>\n      <td>13</td>\n      <td>$2.94</td>\n      <td>$38.24</td>\n      <td>$3.19</td>\n    </tr>\n  </tbody>\n</table>\n</div>"
     },
     "metadata": {},
     "execution_count": 215
    }
   ],
   "source": [
    "\n",
    "# Purchase count per demographic\n",
    "pa_purchase_count = age_demographics[\"Purchase ID\"].count() \n",
    "\n",
    "# Average price per demographic \n",
    "pa_avg_price = age_demographics[\"Price\"].mean() \n",
    "\n",
    " # Total Amount purchased per demographic \n",
    "pa_total_purchase_value = pa_purchase_count * pa_avg_price\n",
    "# Average purchase total per person\n",
    "avg_total_per_person = age_demographics[\"Price\"].sum()/age_demographics[\"SN\"].nunique()\n",
    "\n",
    "pa_summary_df = pd.DataFrame({\"Purchase Count\": pa_purchase_count, \"Average Purchase Price\": pa_avg_price,\n",
    "                          \"Total Purchase Value\": pa_total_purchase_value, \"Average Total per Person\": avg_total_per_person})\n",
    "\n",
    "pa_summary_df[\"Average Purchase Price\"] = pa_summary_df[\"Average Purchase Price\"].map(\"${:.2f}\".format)\n",
    "pa_summary_df[\"Average Total per Person\"] = pa_summary_df[\"Average Total per Person\"].map(\"${:.2f}\".format)\n",
    "pa_summary_df[\"Total Purchase Value\"] = pa_summary_df[\"Total Purchase Value\"].map(\"${:.2f}\".format)\n",
    "\n",
    "purchase_analysis_age_df = pa_summary_df[[\"Purchase Count\", \"Average Purchase Price\", \"Total Purchase Value\", \n",
    "                         \"Average Total per Person\"]]\n",
    "purchase_analysis_age_df"
   ]
  },
  {
   "cell_type": "markdown",
   "metadata": {},
   "source": [
    "## Top Spenders"
   ]
  },
  {
   "cell_type": "markdown",
   "metadata": {},
   "source": [
    "* Run basic calculations to obtain the results in the table below\n",
    "\n",
    "\n",
    "* Create a summary data frame to hold the results\n",
    "\n",
    "\n",
    "* Sort the total purchase value column in descending order\n",
    "\n",
    "\n",
    "* Optional: give the displayed data cleaner formatting\n",
    "\n",
    "\n",
    "* Display a preview of the summary data frame\n",
    "\n"
   ]
  },
  {
   "cell_type": "code",
   "execution_count": 216,
   "metadata": {},
   "outputs": [
    {
     "output_type": "execute_result",
     "data": {
      "text/plain": [
       "             Purchase Count Average Purchase Price Total Purchase Value\n",
       "Lisosia93                 5                  $3.79               $18.96\n",
       "Idastidru52               4                  $3.86               $15.45\n",
       "Chamjask73                3                  $4.61               $13.83\n",
       "Iral74                    4                  $3.40               $13.62\n",
       "Iskadarya95               3                  $4.37               $13.10"
      ],
      "text/html": "<div>\n<style scoped>\n    .dataframe tbody tr th:only-of-type {\n        vertical-align: middle;\n    }\n\n    .dataframe tbody tr th {\n        vertical-align: top;\n    }\n\n    .dataframe thead th {\n        text-align: right;\n    }\n</style>\n<table border=\"1\" class=\"dataframe\">\n  <thead>\n    <tr style=\"text-align: right;\">\n      <th></th>\n      <th>Purchase Count</th>\n      <th>Average Purchase Price</th>\n      <th>Total Purchase Value</th>\n    </tr>\n  </thead>\n  <tbody>\n    <tr>\n      <th>Lisosia93</th>\n      <td>5</td>\n      <td>$3.79</td>\n      <td>$18.96</td>\n    </tr>\n    <tr>\n      <th>Idastidru52</th>\n      <td>4</td>\n      <td>$3.86</td>\n      <td>$15.45</td>\n    </tr>\n    <tr>\n      <th>Chamjask73</th>\n      <td>3</td>\n      <td>$4.61</td>\n      <td>$13.83</td>\n    </tr>\n    <tr>\n      <th>Iral74</th>\n      <td>4</td>\n      <td>$3.40</td>\n      <td>$13.62</td>\n    </tr>\n    <tr>\n      <th>Iskadarya95</th>\n      <td>3</td>\n      <td>$4.37</td>\n      <td>$13.10</td>\n    </tr>\n  </tbody>\n</table>\n</div>"
     },
     "metadata": {},
     "execution_count": 216
    }
   ],
   "source": [
    "# Count purchases made by unique SN\n",
    "spender_count = purchase_data[\"SN\"].value_counts()\n",
    "\n",
    "#Calculate the average purchase by unique SN\n",
    "spender_average_purchase = purchase_data[\"Price\"].groupby(purchase_data[\"SN\"]).mean()\n",
    "\n",
    "# Calculate the total purchase from each unique SN\n",
    "spender_total_purchase = purchase_data[\"Price\"].groupby(purchase_data[\"SN\"]).sum()\n",
    "\n",
    "# create dataframe\n",
    "top_spenders = pd.DataFrame({\n",
    "    \"Purchase Count\":spender_count,\n",
    "    \"Average Purchase Price\":spender_average_purchase,\n",
    "    \"Total Purchase Value\":spender_total_purchase\n",
    "})\n",
    "\n",
    "#  sort and format\n",
    "top_spenders_sorted = top_spenders.sort_values(\"Total Purchase Value\", ascending= False)\n",
    "top_spenders_sorted[\"Average Purchase Price\"] = top_spenders_sorted[\"Average Purchase Price\"].map(\"${:.2f}\".format)\n",
    "top_spenders_sorted[\"Total Purchase Value\"] = top_spenders_sorted[\"Total Purchase Value\"].map(\"${:.2f}\".format)\n",
    "\n",
    "# show top 5\n",
    "top_spenders_sorted.head(5)"
   ]
  },
  {
   "cell_type": "markdown",
   "metadata": {},
   "source": [
    "## Most Popular Items"
   ]
  },
  {
   "cell_type": "markdown",
   "metadata": {},
   "source": [
    "* Retrieve the Item ID, Item Name, and Item Price columns\n",
    "\n",
    "\n",
    "* Group by Item ID and Item Name. Perform calculations to obtain purchase count, item price, and total purchase value\n",
    "\n",
    "\n",
    "* Create a summary data frame to hold the results\n",
    "\n",
    "\n",
    "* Sort the purchase count column in descending order\n",
    "\n",
    "\n",
    "* Optional: give the displayed data cleaner formatting\n",
    "\n",
    "\n",
    "* Display a preview of the summary data frame\n",
    "\n"
   ]
  },
  {
   "cell_type": "code",
   "execution_count": 217,
   "metadata": {},
   "outputs": [
    {
     "output_type": "execute_result",
     "data": {
      "text/plain": [
       "                                                      Purchase Count  ... Total Purchase Value\n",
       "Item ID Item Name                                                     ...                     \n",
       "92      Final Critic                                              13  ...               $59.99\n",
       "178     Oathbreaker, Last Hope of the Breaking Storm              12  ...               $50.76\n",
       "145     Fiery Glass Crusader                                       9  ...               $41.22\n",
       "132     Persuasion                                                 9  ...               $28.99\n",
       "108     Extraction, Quickblade Of Trembling Hands                  9  ...               $31.77\n",
       "\n",
       "[5 rows x 3 columns]"
      ],
      "text/html": "<div>\n<style scoped>\n    .dataframe tbody tr th:only-of-type {\n        vertical-align: middle;\n    }\n\n    .dataframe tbody tr th {\n        vertical-align: top;\n    }\n\n    .dataframe thead th {\n        text-align: right;\n    }\n</style>\n<table border=\"1\" class=\"dataframe\">\n  <thead>\n    <tr style=\"text-align: right;\">\n      <th></th>\n      <th></th>\n      <th>Purchase Count</th>\n      <th>Item Price</th>\n      <th>Total Purchase Value</th>\n    </tr>\n    <tr>\n      <th>Item ID</th>\n      <th>Item Name</th>\n      <th></th>\n      <th></th>\n      <th></th>\n    </tr>\n  </thead>\n  <tbody>\n    <tr>\n      <th>92</th>\n      <th>Final Critic</th>\n      <td>13</td>\n      <td>$4.61</td>\n      <td>$59.99</td>\n    </tr>\n    <tr>\n      <th>178</th>\n      <th>Oathbreaker, Last Hope of the Breaking Storm</th>\n      <td>12</td>\n      <td>$4.23</td>\n      <td>$50.76</td>\n    </tr>\n    <tr>\n      <th>145</th>\n      <th>Fiery Glass Crusader</th>\n      <td>9</td>\n      <td>$4.58</td>\n      <td>$41.22</td>\n    </tr>\n    <tr>\n      <th>132</th>\n      <th>Persuasion</th>\n      <td>9</td>\n      <td>$3.22</td>\n      <td>$28.99</td>\n    </tr>\n    <tr>\n      <th>108</th>\n      <th>Extraction, Quickblade Of Trembling Hands</th>\n      <td>9</td>\n      <td>$3.53</td>\n      <td>$31.77</td>\n    </tr>\n  </tbody>\n</table>\n</div>"
     },
     "metadata": {},
     "execution_count": 217
    }
   ],
   "source": [
    "# retrieve columns in new dataframe\n",
    "popular_items_df = purchase_data[['Item ID', 'Item Name', 'Price']]\n",
    "\n",
    "# count transactions for each item\n",
    "items_purchase_count = popular_items_df.groupby([\"Item ID\",\"Item Name\"])[\"Price\"].count()\n",
    "\n",
    "# Price of each item\n",
    "item_price = popular_items_df.groupby([\"Item ID\",\"Item Name\"])[\"Price\"].mean()\n",
    "\n",
    "# Calculate total revenue from each item\n",
    "total_purchase_value = popular_items_df.groupby([\"Item ID\",\"Item Name\"])[\"Price\"].sum()\n",
    "\n",
    "# Create summary data frame\n",
    "pi_summary_df = pd.DataFrame({\"Purchase Count\": items_purchase_count, \"Item Price\": item_price, \n",
    "                           \"Total Purchase Value\": total_purchase_value})\n",
    "\n",
    "# sort dataframe\n",
    "pi_summary_df_sorted = pi_summary_df.sort_values(by=\"Purchase Count\", ascending = False)\n",
    "\n",
    "#format dataframe\n",
    "pi_summary_df_sorted[\"Item Price\"] = pi_summary_df_sorted[\"Item Price\"].map(\"${:.2f}\".format)\n",
    "pi_summary_df_sorted[\"Total Purchase Value\"] = pi_summary_df_sorted[\"Total Purchase Value\"].map(\"${:.2f}\".format)\n",
    "\n",
    "# show summary data frame\n",
    "pi_summary_df_sorted = pi_summary_df_sorted[[\"Purchase Count\", \"Item Price\", \"Total Purchase Value\"]]\n",
    "pi_summary_df_sorted.head()"
   ]
  },
  {
   "cell_type": "markdown",
   "metadata": {},
   "source": [
    "## Most Profitable Items"
   ]
  },
  {
   "cell_type": "markdown",
   "metadata": {},
   "source": [
    "* Sort the above table by total purchase value in descending order\n",
    "\n",
    "\n",
    "* Optional: give the displayed data cleaner formatting\n",
    "\n",
    "\n",
    "* Display a preview of the data frame\n",
    "\n"
   ]
  },
  {
   "cell_type": "code",
   "execution_count": 218,
   "metadata": {
    "scrolled": true
   },
   "outputs": [
    {
     "output_type": "execute_result",
     "data": {
      "text/plain": [
       "                                                      Purchase Count  ... Total Purchase Value\n",
       "Item ID Item Name                                                     ...                     \n",
       "92      Final Critic                                              13  ...               $59.99\n",
       "178     Oathbreaker, Last Hope of the Breaking Storm              12  ...               $50.76\n",
       "82      Nirvana                                                    9  ...               $44.10\n",
       "145     Fiery Glass Crusader                                       9  ...               $41.22\n",
       "103     Singed Scalpel                                             8  ...               $34.80\n",
       "\n",
       "[5 rows x 3 columns]"
      ],
      "text/html": "<div>\n<style scoped>\n    .dataframe tbody tr th:only-of-type {\n        vertical-align: middle;\n    }\n\n    .dataframe tbody tr th {\n        vertical-align: top;\n    }\n\n    .dataframe thead th {\n        text-align: right;\n    }\n</style>\n<table border=\"1\" class=\"dataframe\">\n  <thead>\n    <tr style=\"text-align: right;\">\n      <th></th>\n      <th></th>\n      <th>Purchase Count</th>\n      <th>Item Price</th>\n      <th>Total Purchase Value</th>\n    </tr>\n    <tr>\n      <th>Item ID</th>\n      <th>Item Name</th>\n      <th></th>\n      <th></th>\n      <th></th>\n    </tr>\n  </thead>\n  <tbody>\n    <tr>\n      <th>92</th>\n      <th>Final Critic</th>\n      <td>13</td>\n      <td>$4.61</td>\n      <td>$59.99</td>\n    </tr>\n    <tr>\n      <th>178</th>\n      <th>Oathbreaker, Last Hope of the Breaking Storm</th>\n      <td>12</td>\n      <td>$4.23</td>\n      <td>$50.76</td>\n    </tr>\n    <tr>\n      <th>82</th>\n      <th>Nirvana</th>\n      <td>9</td>\n      <td>$4.90</td>\n      <td>$44.10</td>\n    </tr>\n    <tr>\n      <th>145</th>\n      <th>Fiery Glass Crusader</th>\n      <td>9</td>\n      <td>$4.58</td>\n      <td>$41.22</td>\n    </tr>\n    <tr>\n      <th>103</th>\n      <th>Singed Scalpel</th>\n      <td>8</td>\n      <td>$4.35</td>\n      <td>$34.80</td>\n    </tr>\n  </tbody>\n</table>\n</div>"
     },
     "metadata": {},
     "execution_count": 218
    }
   ],
   "source": [
    "# sort above table by total purchase\n",
    "popular_items_sorted_purchase = pi_summary_df.sort_values(\"Total Purchase Value\", ascending= False)\n",
    "\n",
    "# format the table\n",
    "popular_items_sorted_purchase[\"Item Price\"]= popular_items_sorted_purchase[\"Item Price\"].map(\"${:.2f}\".format)\n",
    "popular_items_sorted_purchase[\"Total Purchase Value\"]= popular_items_sorted_purchase[\"Total Purchase Value\"].map(\"${:.2f}\".format)\n",
    "\n",
    "#print the preview of the data frame\n",
    "popular_items_sorted_purchase.head()\n"
   ]
  },
  {
   "cell_type": "code",
   "execution_count": null,
   "metadata": {},
   "outputs": [],
   "source": []
  },
  {
   "source": [],
   "cell_type": "markdown",
   "metadata": {}
  },
  {
   "cell_type": "code",
   "execution_count": null,
   "metadata": {},
   "outputs": [],
   "source": []
  },
  {
   "source": [
    "## Three Observable Trends in Heroes of Pymoli\n",
    "\n",
    "* Majority of our Players are males\n",
    "* The 20-24 year old age group contributes approximately 45% of player count and spend more than any of the other age groups.\n",
    "\n",
    "* \"Final Critic\" is both our most profitable and most popular item"
   ],
   "cell_type": "markdown",
   "metadata": {}
  },
  {
   "cell_type": "code",
   "execution_count": null,
   "metadata": {},
   "outputs": [],
   "source": []
  }
 ],
 "metadata": {
  "anaconda-cloud": {},
  "kernel_info": {
   "name": "python3"
  },
  "kernelspec": {
   "display_name": "Python 3",
   "language": "python",
   "name": "python3"
  },
  "language_info": {
   "codemirror_mode": {
    "name": "ipython",
    "version": 3
   },
   "file_extension": ".py",
   "mimetype": "text/x-python",
   "name": "python",
   "nbconvert_exporter": "python",
   "pygments_lexer": "ipython3",
   "version": "3.8.3-final"
  },
  "latex_envs": {
   "LaTeX_envs_menu_present": true,
   "autoclose": false,
   "autocomplete": true,
   "bibliofile": "biblio.bib",
   "cite_by": "apalike",
   "current_citInitial": 1,
   "eqLabelWithNumbers": true,
   "eqNumInitial": 1,
   "hotkeys": {
    "equation": "Ctrl-E",
    "itemize": "Ctrl-I"
   },
   "labels_anchors": false,
   "latex_user_defs": false,
   "report_style_numbering": false,
   "user_envs_cfg": false
  },
  "nteract": {
   "version": "0.2.0"
  }
 },
 "nbformat": 4,
 "nbformat_minor": 2
}